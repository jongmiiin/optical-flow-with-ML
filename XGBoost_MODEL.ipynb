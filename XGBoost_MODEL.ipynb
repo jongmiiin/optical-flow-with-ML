{
  "cells": [
    {
      "cell_type": "code",
      "execution_count": null,
      "metadata": {
        "colab": {
          "base_uri": "https://localhost:8080/"
        },
        "id": "1LacPO9BSLq7",
        "outputId": "6f77fa89-d196-4f1f-b91e-98db918fa79b"
      },
      "outputs": [
        {
          "name": "stderr",
          "output_type": "stream",
          "text": [
            "/usr/local/lib/python3.11/dist-packages/xgboost/core.py:158: UserWarning: [03:20:48] WARNING: /workspace/src/learner.cc:740: \n",
            "Parameters: { \"use_label_encoder\" } are not used.\n",
            "\n",
            "  warnings.warn(smsg, UserWarning)\n"
          ]
        },
        {
          "name": "stdout",
          "output_type": "stream",
          "text": [
            "Accuracy: 0.8182679552776199\n",
            "\n",
            "Classification Report:\n",
            "               precision    recall  f1-score   support\n",
            "\n",
            "           0       0.84      0.81      0.82      2726\n",
            "           1       0.80      0.83      0.82      2551\n",
            "\n",
            "    accuracy                           0.82      5277\n",
            "   macro avg       0.82      0.82      0.82      5277\n",
            "weighted avg       0.82      0.82      0.82      5277\n",
            "\n"
          ]
        }
      ],
      "source": [
        "import pandas as pd\n",
        "from sklearn.model_selection import train_test_split\n",
        "from sklearn.metrics import classification_report, accuracy_score\n",
        "from xgboost import XGBClassifier\n",
        "\n",
        "# 1. 데이터 불러오기\n",
        "df = pd.read_csv('/content/XGBoost_features.csv')  # 파일명/경로를 맞춰주세요\n",
        "\n",
        "# 2. 특성(features)과 레이블(label) 분리\n",
        "#    컬럼 인덱스로 지정: iloc[:, 3:] → 4번째 컬럼(인덱스 3)부터 끝까지가 피처\n",
        "X = df.iloc[:, 3:]\n",
        "y = df.iloc[:, 2]\n",
        "\n",
        "# 3. 학습용/검증용 데이터 분할\n",
        "X_train, X_test, y_train, y_test = train_test_split(\n",
        "    X, y, test_size=0.2, random_state=42, stratify=y\n",
        ")\n",
        "\n",
        "# 4. XGBoost 분류기 생성 및 학습\n",
        "model = XGBClassifier(\n",
        "    use_label_encoder=False,\n",
        "    eval_metric='logloss',\n",
        "    n_estimators=100,\n",
        "    max_depth=6,\n",
        "    learning_rate=0.1,\n",
        "    random_state=42\n",
        ")\n",
        "model.fit(X_train, y_train)\n",
        "\n",
        "# 5. 예측 및 평가\n",
        "y_pred = model.predict(X_test)\n",
        "print(\"Accuracy:\", accuracy_score(y_test, y_pred))\n",
        "print(\"\\nClassification Report:\\n\", classification_report(y_test, y_pred))\n",
        "\n",
        "# 6. (선택) 모델 저장\n",
        "import joblib\n",
        "joblib.dump(model, 'xgb_fall_detector.pkl')\n"
      ]
    },
    {
      "cell_type": "code",
      "execution_count": null,
      "metadata": {
        "colab": {
          "base_uri": "https://localhost:8080/"
        },
        "id": "FD1rEjlJUK4x",
        "outputId": "4f15c85d-8218-4c71-e3be-d093374e5190"
      },
      "outputs": [
        {
          "name": "stdout",
          "output_type": "stream",
          "text": [
            "전체 데이터 분포\n",
            "0.1\n",
            "0    13630\n",
            "1    12753\n",
            "Name: count, dtype: int64\n",
            "전체 비율\n",
            "0.1\n",
            "0    0.517\n",
            "1    0.483\n",
            "Name: count, dtype: float64 \n",
            "\n",
            "학습 세트 분포\n",
            "0.1\n",
            "0    10904\n",
            "1    10202\n",
            "Name: count, dtype: int64\n",
            "학습 세트 비율\n",
            "0.1\n",
            "0    0.517\n",
            "1    0.483\n",
            "Name: count, dtype: float64 \n",
            "\n",
            "테스트 세트 분포\n",
            "0.1\n",
            "0    2726\n",
            "1    2551\n",
            "Name: count, dtype: int64\n",
            "테스트 세트 비율\n",
            "0.1\n",
            "0    0.517\n",
            "1    0.483\n",
            "Name: count, dtype: float64\n"
          ]
        }
      ],
      "source": [
        "# ——————————————————————————————\n",
        "# 전체 레이블 분포 확인\n",
        "total_counts = y.value_counts()\n",
        "print(\"전체 데이터 분포\")\n",
        "print(total_counts)\n",
        "print(\"전체 비율\")\n",
        "print((total_counts / len(y)).round(3), \"\\n\")\n",
        "\n",
        "# 학습/검증 레이블 분포 확인\n",
        "train_counts = y_train.value_counts()\n",
        "test_counts  = y_test.value_counts()\n",
        "\n",
        "print(\"학습 세트 분포\")\n",
        "print(train_counts)\n",
        "print(\"학습 세트 비율\")\n",
        "print((train_counts / len(y_train)).round(3), \"\\n\")\n",
        "\n",
        "print(\"테스트 세트 분포\")\n",
        "print(test_counts)\n",
        "print(\"테스트 세트 비율\")\n",
        "print((test_counts / len(y_test)).round(3))\n",
        "# ——————————————————————————————\n"
      ]
    },
    {
      "cell_type": "code",
      "execution_count": null,
      "metadata": {
        "colab": {
          "background_save": true,
          "base_uri": "https://localhost:8080/"
        },
        "id": "EZ3GdI1IVyL7",
        "outputId": "2a250251-a1bf-4f25-f1ea-6ac69831baaa"
      },
      "outputs": [
        {
          "name": "stdout",
          "output_type": "stream",
          "text": [
            "Fitting 5 folds for each of 50 candidates, totalling 250 fits\n"
          ]
        }
      ],
      "source": [
        "from sklearn.model_selection import RandomizedSearchCV\n",
        "\n",
        "param_dist = {\n",
        "    'n_estimators':    [100, 300, 500, 800, 1000],\n",
        "    'max_depth':       [3, 5, 7, 9],\n",
        "    'learning_rate':   [0.01, 0.05, 0.1, 0.2],\n",
        "    'subsample':       [0.6, 0.8, 1.0],\n",
        "    'colsample_bytree':[0.6, 0.8, 1.0],\n",
        "    'gamma':           [0, 1, 5, 10],\n",
        "    'reg_alpha':       [0, 0.1, 0.5, 1],\n",
        "    'reg_lambda':      [1, 1.5, 2, 3]\n",
        "}\n",
        "\n",
        "rs = RandomizedSearchCV(\n",
        "    estimator=XGBClassifier(use_label_encoder=False, eval_metric='logloss', random_state=42),\n",
        "    param_distributions=param_dist,\n",
        "    n_iter=50,         # 탐색 횟수\n",
        "    scoring='accuracy',\n",
        "    cv=5,\n",
        "    verbose=2,\n",
        "    random_state=42,\n",
        "    n_jobs=-1\n",
        ")\n",
        "\n",
        "rs.fit(X_train, y_train)\n",
        "print(\"Best params:\", rs.best_params_)\n",
        "print(\"CV best score:\", rs.best_score_)\n",
        "\n",
        "# 최적 모델로 테스트 평가\n",
        "best_model = rs.best_estimator_\n",
        "y_pred = best_model.predict(X_test)\n",
        "print(\"RandomizedSearchCV 적용 후 Accuracy:\", accuracy_score(y_test, y_pred))\n",
        "print(classification_report(y_test, y_pred))\n"
      ]
    }
  ],
  "metadata": {
    "accelerator": "GPU",
    "colab": {
      "gpuType": "T4",
      "provenance": []
    },
    "kernelspec": {
      "display_name": "Python 3",
      "name": "python3"
    },
    "language_info": {
      "name": "python"
    }
  },
  "nbformat": 4,
  "nbformat_minor": 0
}
